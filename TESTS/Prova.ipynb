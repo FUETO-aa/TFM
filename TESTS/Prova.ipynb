{
 "cells": [
  {
   "cell_type": "code",
   "execution_count": 1,
   "id": "b2d812e0-dfa5-4356-874f-056d725f65aa",
   "metadata": {},
   "outputs": [],
   "source": [
    "%load_ext autoreload\n",
    "%autoreload 2"
   ]
  },
  {
   "cell_type": "code",
   "execution_count": 2,
   "id": "b3904fa7-ff6f-4b95-a77d-e719c2f1d61f",
   "metadata": {},
   "outputs": [],
   "source": [
    "import numpy as np\n",
    "import mne\n",
    "from scipy import signal\n",
    "from scipy.signal import butter, filtfilt, iirnotch, detrend\n",
    "from definitions import CHAN_LOC\n",
    "import pyxdf  # For loading .xdf files"
   ]
  },
  {
   "cell_type": "code",
   "execution_count": 3,
   "id": "1b575f60-7b84-4102-b5b3-6998bfe1e373",
   "metadata": {},
   "outputs": [],
   "source": [
    "def load_xdf_file(filepath):\n",
    "    \"\"\"Load the XDF file using pyxdf.\"\"\"\n",
    "    streams, header = pyxdf.load_xdf(filepath)\n",
    "    return streams, header"
   ]
  },
  {
   "cell_type": "code",
   "execution_count": 4,
   "id": "3b5e2023-a8bb-4303-9fea-ee0b0b06400f",
   "metadata": {},
   "outputs": [],
   "source": [
    "def perform_ICA(streams, num):\n",
    "    # Step 2: Load your EEG data from the stream\n",
    "    if num == 1:\n",
    "        data = streams[0]['time_series'][:9, :]\n",
    "        sampling_rate = streams[0]['info']['effective_srate']\n",
    "    else:\n",
    "        data = streams[1]['time_series'][:9, :]\n",
    "        sampling_rate = streams[1]['info']['effective_srate']\n",
    "\n",
    "    # Step 3: Load your channel locations file\n",
    "    chanlocs = CHAN_LOC\n",
    "    \n",
    "    # Step 4: Create an MNE RawArray object from the data\n",
    "    num_channels = data.shape[0]\n",
    "    ch_names = ['EEG' + str(i) for i in range(1, num_channels + 1)]  # Assuming generic channel names\n",
    "    montage = mne.channels.read_custom_montage(chanlocs)  # Load channel locations\n",
    "    info = mne.create_info(ch_names=ch_names, sfreq=sampling_rate, ch_types='eeg')\n",
    "    raw = mne.io.RawArray(data, info)\n",
    "    raw.set_montage(montage)\n",
    "\n",
    "    # Step 5: Preprocess the data (bandpass filter between 1-50 Hz)\n",
    "    raw.filter(1., 50., fir_design='firwin')\n",
    "\n",
    "    # Step 6: Run ICA\n",
    "    ica = mne.preprocessing.ICA(n_components=num_channels, method='fastica', random_state=97)\n",
    "    ica.fit(raw)\n",
    "\n",
    "    # Optional: Save the ICA results\n",
    "    ica.save('yourdata_ica.fif')  # Uncomment and modify the path to save the ICA\n",
    "\n",
    "    return raw, ica"
   ]
  },
  {
   "cell_type": "code",
   "execution_count": 5,
   "id": "65f07031-b3a2-439c-b321-b0f19cbbb1c6",
   "metadata": {},
   "outputs": [],
   "source": [
    "def filtering(EEG_data):\n",
    "    # Sampling rate\n",
    "    sampling_rate = EEG_data.info['sfreq']\n",
    "\n",
    "    # Butterworth bandpass filter between 0.3 and 10 Hz (4th order)\n",
    "    b_butter, a_butter = butter(4, [0.3, 10], btype='bandpass', fs=sampling_rate)\n",
    "\n",
    "    # Mu wave frequency range\n",
    "    mu_range = [8, 12]\n",
    "    b_mu, a_mu = butter(4, mu_range, btype='bandpass', fs=sampling_rate)\n",
    "\n",
    "    # Notch filter for power line noise at 50 Hz\n",
    "    b_notch, a_notch = iirnotch(50, 50 / 35, sampling_rate)\n",
    "\n",
    "    # Initialize the filtered data\n",
    "    eeg_data_notch = np.zeros_like(EEG_data.get_data())\n",
    "    eeg_data_but = np.zeros_like(EEG_data.get_data())\n",
    "    eeg_data_mu = np.zeros_like(EEG_data.get_data())\n",
    "    eeg_data_mean = np.zeros_like(EEG_data.get_data())\n",
    "\n",
    "    # Apply filtering to each channel\n",
    "    for i in range(EEG_data.get_data().shape[0]):\n",
    "        # Apply notch filter to remove 50 Hz power line noise\n",
    "        eeg_data_notch[i, :] = filtfilt(b_notch, a_notch, EEG_data.get_data()[i, :])\n",
    "\n",
    "        # Apply Butterworth bandpass filter (0.3-10 Hz)\n",
    "        eeg_data_but[i, :] = filtfilt(b_butter, a_butter, detrend(eeg_data_notch[i, :]))\n",
    "\n",
    "        # Apply Butterworth filter for mu waves (8-12 Hz)\n",
    "        eeg_data_mu[i, :] = filtfilt(b_mu, a_mu, detrend(eeg_data_but[i, :]))\n",
    "\n",
    "        # Calculate the mean for each channel after mu wave filtering\n",
    "        eeg_data_mean[i, :] = np.mean(eeg_data_mu[i, :])\n",
    "\n",
    "    # Transpose the filtered data\n",
    "    eeg_data_but = eeg_data_but.T\n",
    "\n",
    "    # Zero-mean the data\n",
    "    channels_mean = np.mean(eeg_data_but, axis=1)\n",
    "    channels_mean_matrix = np.tile(channels_mean[:, np.newaxis], (1, eeg_data_but.shape[1]))\n",
    "    EEG_filt = eeg_data_but - channels_mean_matrix\n",
    "\n",
    "    return EEG_filt"
   ]
  },
  {
   "cell_type": "code",
   "execution_count": 6,
   "id": "4ced9642-3840-4d86-94c6-3ca12df3a83c",
   "metadata": {},
   "outputs": [],
   "source": [
    "def plot_eeg(EEG_filt, events, sampling_rate, title):\n",
    "    \"\"\" Plot EEG data with event markers. \"\"\"\n",
    "    time_vector = np.arange(len(EEG_filt)) / sampling_rate\n",
    "    plt.figure()\n",
    "    plt.plot(time_vector, EEG_filt[:, 5])  # Cz channel (index 5)\n",
    "    plt.xlabel('Time (s)')\n",
    "    plt.ylabel('EEG Data')\n",
    "    plt.title(title)\n",
    "    for event in events:\n",
    "        plt.axvline(x=event / sampling_rate, color='r', linestyle='--')\n",
    "    plt.show()"
   ]
  },
  {
   "cell_type": "code",
   "execution_count": 7,
   "id": "300accad-a852-48a4-ab08-3de0e9d902c6",
   "metadata": {},
   "outputs": [],
   "source": [
    "def plot_topoplot(mean_data, title):\n",
    "    \"\"\" Plot the topographic map (topoplot) of EEG data. \"\"\"\n",
    "    mne.viz.plot_topomap(mean_data, pos=CHAN_LOC, show=True)\n",
    "    plt.title(title)\n",
    "    plt.show()\n"
   ]
  },
  {
   "cell_type": "code",
   "execution_count": 10,
   "id": "dc71462d-7661-4c76-b5f8-9dd77f641319",
   "metadata": {},
   "outputs": [
    {
     "ename": "Exception",
     "evalue": "file DATASET\\SUB_2\\RIGHT\\sub-P001\\ses-S002\\eeg\\sub-P001_ses-S002_task-Default_run-001_eeg.xdf does not exist.",
     "output_type": "error",
     "traceback": [
      "\u001b[1;31m---------------------------------------------------------------------------\u001b[0m",
      "\u001b[1;31mException\u001b[0m                                 Traceback (most recent call last)",
      "Cell \u001b[1;32mIn[10], line 5\u001b[0m\n\u001b[0;32m      2\u001b[0m xdfFilePath_Right \u001b[38;5;241m=\u001b[39m \u001b[38;5;124mr\u001b[39m\u001b[38;5;124m\"\u001b[39m\u001b[38;5;124m.\u001b[39m\u001b[38;5;124m\\\u001b[39m\u001b[38;5;124mDATASET\u001b[39m\u001b[38;5;124m\\\u001b[39m\u001b[38;5;124mSUB_2\u001b[39m\u001b[38;5;124m\\\u001b[39m\u001b[38;5;124mRIGHT\u001b[39m\u001b[38;5;124m\\\u001b[39m\u001b[38;5;124msub-P001\u001b[39m\u001b[38;5;124m\\\u001b[39m\u001b[38;5;124mses-S002\u001b[39m\u001b[38;5;124m\\\u001b[39m\u001b[38;5;124meeg\u001b[39m\u001b[38;5;124m\\\u001b[39m\u001b[38;5;124msub-P001_ses-S002_task-Default_run-001_eeg.xdf\u001b[39m\u001b[38;5;124m\"\u001b[39m\n\u001b[0;32m      3\u001b[0m xdfFilePath_Left \u001b[38;5;241m=\u001b[39m xdfFilePath_Left \u001b[38;5;241m=\u001b[39m \u001b[38;5;124mr\u001b[39m\u001b[38;5;124m\"\u001b[39m\u001b[38;5;124m.\u001b[39m\u001b[38;5;124m\\\u001b[39m\u001b[38;5;124mDATASET\u001b[39m\u001b[38;5;124m\\\u001b[39m\u001b[38;5;124mSUB_2\u001b[39m\u001b[38;5;124m\\\u001b[39m\u001b[38;5;124mLEFT\u001b[39m\u001b[38;5;124m\\\u001b[39m\u001b[38;5;124msub-P001\u001b[39m\u001b[38;5;124m\\\u001b[39m\u001b[38;5;124mses-S002\u001b[39m\u001b[38;5;124m\\\u001b[39m\u001b[38;5;124meeg\u001b[39m\u001b[38;5;124m\\\u001b[39m\u001b[38;5;124msub-P001_ses-S002_task-Default_run-001_eeg.xdf\u001b[39m\u001b[38;5;124m\"\u001b[39m\n\u001b[1;32m----> 5\u001b[0m streams_R, header_R \u001b[38;5;241m=\u001b[39m \u001b[43mload_xdf_file\u001b[49m\u001b[43m(\u001b[49m\u001b[43mxdfFilePath_Right\u001b[49m\u001b[43m)\u001b[49m\n\u001b[0;32m      6\u001b[0m streams_L, header_L \u001b[38;5;241m=\u001b[39m load_xdf_file(xdfFilePath_Left)\n\u001b[0;32m      8\u001b[0m \u001b[38;5;66;03m# Perform ICA\u001b[39;00m\n",
      "Cell \u001b[1;32mIn[3], line 3\u001b[0m, in \u001b[0;36mload_xdf_file\u001b[1;34m(filepath)\u001b[0m\n\u001b[0;32m      1\u001b[0m \u001b[38;5;28;01mdef\u001b[39;00m \u001b[38;5;21mload_xdf_file\u001b[39m(filepath):\n\u001b[0;32m      2\u001b[0m \u001b[38;5;250m    \u001b[39m\u001b[38;5;124;03m\"\"\"Load the XDF file using pyxdf.\"\"\"\u001b[39;00m\n\u001b[1;32m----> 3\u001b[0m     streams, header \u001b[38;5;241m=\u001b[39m \u001b[43mpyxdf\u001b[49m\u001b[38;5;241;43m.\u001b[39;49m\u001b[43mload_xdf\u001b[49m\u001b[43m(\u001b[49m\u001b[43mfilepath\u001b[49m\u001b[43m)\u001b[49m\n\u001b[0;32m      4\u001b[0m     \u001b[38;5;28;01mreturn\u001b[39;00m streams, header\n",
      "File \u001b[1;32m~\\anaconda3\\envs\\TFM\\Lib\\site-packages\\pyxdf\\pyxdf.py:229\u001b[0m, in \u001b[0;36mload_xdf\u001b[1;34m(filename, select_streams, on_chunk, synchronize_clocks, handle_clock_resets, dejitter_timestamps, jitter_break_threshold_seconds, jitter_break_threshold_samples, clock_reset_threshold_seconds, clock_reset_threshold_stds, clock_reset_threshold_offset_seconds, clock_reset_threshold_offset_stds, winsor_threshold, verbose)\u001b[0m\n\u001b[0;32m    226\u001b[0m \u001b[38;5;66;03m# XML content of the file header chunk\u001b[39;00m\n\u001b[0;32m    227\u001b[0m fileheader \u001b[38;5;241m=\u001b[39m \u001b[38;5;28;01mNone\u001b[39;00m\n\u001b[1;32m--> 229\u001b[0m \u001b[38;5;28;01mwith\u001b[39;00m \u001b[43mopen_xdf\u001b[49m\u001b[43m(\u001b[49m\u001b[43mfilename\u001b[49m\u001b[43m)\u001b[49m \u001b[38;5;28;01mas\u001b[39;00m f:\n\u001b[0;32m    230\u001b[0m     \u001b[38;5;66;03m# for each chunk\u001b[39;00m\n\u001b[0;32m    231\u001b[0m     \u001b[38;5;28;01mwhile\u001b[39;00m \u001b[38;5;28;01mTrue\u001b[39;00m:\n\u001b[0;32m    232\u001b[0m         \u001b[38;5;66;03m# noinspection PyBroadException\u001b[39;00m\n\u001b[0;32m    233\u001b[0m         \u001b[38;5;28;01mtry\u001b[39;00m:\n\u001b[0;32m    234\u001b[0m             \u001b[38;5;66;03m# read [NumLengthBytes], [Length]\u001b[39;00m\n",
      "File \u001b[1;32m~\\anaconda3\\envs\\TFM\\Lib\\site-packages\\pyxdf\\pyxdf.py:423\u001b[0m, in \u001b[0;36mopen_xdf\u001b[1;34m(file)\u001b[0m\n\u001b[0;32m    421\u001b[0m \u001b[38;5;66;03m# check absolute path after following symlinks\u001b[39;00m\n\u001b[0;32m    422\u001b[0m \u001b[38;5;28;01mif\u001b[39;00m \u001b[38;5;129;01mnot\u001b[39;00m filename\u001b[38;5;241m.\u001b[39mresolve()\u001b[38;5;241m.\u001b[39mexists():\n\u001b[1;32m--> 423\u001b[0m     \u001b[38;5;28;01mraise\u001b[39;00m \u001b[38;5;167;01mException\u001b[39;00m(\u001b[38;5;124m\"\u001b[39m\u001b[38;5;124mfile \u001b[39m\u001b[38;5;132;01m%s\u001b[39;00m\u001b[38;5;124m does not exist.\u001b[39m\u001b[38;5;124m\"\u001b[39m \u001b[38;5;241m%\u001b[39m filename)\n\u001b[0;32m    425\u001b[0m \u001b[38;5;28;01mif\u001b[39;00m filename\u001b[38;5;241m.\u001b[39msuffix \u001b[38;5;241m==\u001b[39m \u001b[38;5;124m\"\u001b[39m\u001b[38;5;124m.xdfz\u001b[39m\u001b[38;5;124m\"\u001b[39m \u001b[38;5;129;01mor\u001b[39;00m filename\u001b[38;5;241m.\u001b[39msuffixes \u001b[38;5;241m==\u001b[39m [\u001b[38;5;124m\"\u001b[39m\u001b[38;5;124m.xdf\u001b[39m\u001b[38;5;124m\"\u001b[39m, \u001b[38;5;124m\"\u001b[39m\u001b[38;5;124m.gz\u001b[39m\u001b[38;5;124m\"\u001b[39m]:\n\u001b[0;32m    426\u001b[0m     f \u001b[38;5;241m=\u001b[39m gzip\u001b[38;5;241m.\u001b[39mopen(\u001b[38;5;28mstr\u001b[39m(filename), \u001b[38;5;124m\"\u001b[39m\u001b[38;5;124mrb\u001b[39m\u001b[38;5;124m\"\u001b[39m)\n",
      "\u001b[1;31mException\u001b[0m: file DATASET\\SUB_2\\RIGHT\\sub-P001\\ses-S002\\eeg\\sub-P001_ses-S002_task-Default_run-001_eeg.xdf does not exist."
     ]
    }
   ],
   "source": [
    "# Load XDF files\n",
    "xdfFilePath_Right = r\".\\DATASET\\SUB_2\\RIGHT\\sub-P001\\ses-S002\\eeg\\sub-P001_ses-S002_task-Default_run-001_eeg.xdf\"\n",
    "xdfFilePath_Left = xdfFilePath_Left = r\".\\DATASET\\SUB_2\\LEFT\\sub-P001\\ses-S002\\eeg\\sub-P001_ses-S002_task-Default_run-001_eeg.xdf\"\n",
    "\n",
    "streams_R, header_R = load_xdf_file(xdfFilePath_Right)\n",
    "streams_L, header_L = load_xdf_file(xdfFilePath_Left)\n",
    "\n",
    "# Perform ICA\n",
    "EEG_DATA_R, ICA_R = perform_ICA(streams_R, 1)\n",
    "EEG_DATA_L, ICA_L = perform_ICA(streams_L, 1)\n",
    "\n",
    "# Filter EEG data\n",
    "EEG_filt_R = filtering(EEG_DATA_R)\n",
    "EEG_filt_L = filtering(EEG_DATA_L)\n",
    "\n",
    "# Plot EEG Data with Event Markers\n",
    "sampling_rate = EEG_DATA_R.info['sfreq']\n",
    "events_right = streams_R[0]['time_stamps'] * sampling_rate\n",
    "events_left = streams_L[0]['time_stamps'] * sampling_rate\n",
    "\n",
    "plot_eeg(EEG_filt_R, events_right, sampling_rate, 'EEG Data with Event Markers (Right)')\n",
    "plot_eeg(EEG_filt_L, events_left, sampling_rate, 'EEG Data with Event Markers (Left)')\n",
    "\n",
    "# Create and plot Topoplots\n",
    "mean_R_data = np.mean(EEG_filt_R, axis=0)\n",
    "mean_L_data = np.mean(EEG_filt_L, axis=0)\n",
    "\n",
    "plot_topoplot(mean_R_data, 'EEG TOPOPLOT for Right Events')\n",
    "plot_topoplot(mean_L_data, 'EEG TOPOPLOT for Left Events')"
   ]
  }
 ],
 "metadata": {
  "kernelspec": {
   "display_name": "Python 3 (ipykernel)",
   "language": "python",
   "name": "python3"
  },
  "language_info": {
   "codemirror_mode": {
    "name": "ipython",
    "version": 3
   },
   "file_extension": ".py",
   "mimetype": "text/x-python",
   "name": "python",
   "nbconvert_exporter": "python",
   "pygments_lexer": "ipython3",
   "version": "3.11.6"
  }
 },
 "nbformat": 4,
 "nbformat_minor": 5
}
