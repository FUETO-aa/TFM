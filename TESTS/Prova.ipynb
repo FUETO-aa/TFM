{
 "cells": [
  {
   "cell_type": "code",
   "execution_count": 1,
   "id": "b2d812e0-dfa5-4356-874f-056d725f65aa",
   "metadata": {},
   "outputs": [],
   "source": [
    "%load_ext autoreload\n",
    "%autoreload 2"
   ]
  },
  {
   "cell_type": "code",
   "execution_count": 2,
   "id": "b3904fa7-ff6f-4b95-a77d-e719c2f1d61f",
   "metadata": {},
   "outputs": [],
   "source": [
    "import numpy as np\n",
    "import mne\n",
    "from scipy import signal\n",
    "from scipy.signal import butter, filtfilt, iirnotch, detrend\n",
    "from definitions import CHAN_LOC\n",
    "import pyxdf  # For loading .xdf files"
   ]
  },
  {
   "cell_type": "code",
   "execution_count": 3,
   "id": "1b575f60-7b84-4102-b5b3-6998bfe1e373",
   "metadata": {},
   "outputs": [],
   "source": [
    "def load_xdf_file(filepath):\n",
    "    \"\"\"Load the XDF file using pyxdf.\"\"\"\n",
    "    streams, header = pyxdf.load_xdf(filepath)\n",
    "    return streams, header"
   ]
  },
  {
   "cell_type": "code",
   "execution_count": 4,
   "id": "3b5e2023-a8bb-4303-9fea-ee0b0b06400f",
   "metadata": {},
   "outputs": [],
   "source": [
    "# def perform_ICA(streams):\n",
    "#     if streams['time_series'].shape\n",
    "#         # Attempt to load EEG data from the primary stream\n",
    "#         data = streams[0]['time_series'][:,:9]\n",
    "#         sampling_rate = streams[0]['info']['effective_srate']\n",
    "#     except Exception as e:\n",
    "#         print(f\"Primary stream loading failed: {e}. Trying secondary stream...\")\n",
    "#         # Load EEG data from the alternative stream if the first attempt fails\n",
    "#         data = streams[1]['time_series'][:9, :]\n",
    "#         sampling_rate = streams[1]['info']['effective_srate']\n",
    "\n",
    "#     # Load your channel locations file\n",
    "#     chanlocs = r\"C:\\Users\\Ferran\\Desktop\\TFM\\TFM_EEG\\Documents\\Standard-10-20-Cap10.txt\"\n",
    "\n",
    "#     # Create an MNE RawArray object from the data\n",
    "#     num_channels = data.shape[0]\n",
    "#     ch_names = ['EEG' + str(i) for i in range(1, num_channels + 1)]  # Assuming generic channel names\n",
    "#     montage = mne.channels.read_custom_montage(chanlocs)  # Load channel locations\n",
    "#     info = mne.create_info(ch_names=ch_names, sfreq=sampling_rate, ch_types='eeg')\n",
    "#     raw = mne.io.RawArray(data, info)\n",
    "#     raw.set_montage(montage)\n",
    "    \n",
    "#     # Preprocess the data (bandpass filter between 1-50 Hz)\n",
    "#     raw.filter(1., 50., fir_design='firwin')\n",
    "    \n",
    "#     # Run ICA\n",
    "#     ica = mne.preprocessing.ICA(n_components=num_channels, method='fastica', random_state=97)\n",
    "#     ica.fit(raw)\n",
    "    \n",
    "#     # Optional: Save the ICA results\n",
    "#     ica.save('yourdata_ica.fif')  # Uncomment and modify the path to save the ICA\n",
    "    \n",
    "#     return raw, ica\n"
   ]
  },
  {
   "cell_type": "code",
   "execution_count": 5,
   "id": "6d046965-a5da-4c28-b8c2-b798669d0f90",
   "metadata": {},
   "outputs": [],
   "source": [
    "import numpy as np\n",
    "import mne\n",
    "\n",
    "def perform_ICA(streams, side_identifier):\n",
    "    \"\"\"\n",
    "    Perform ICA on EEG data and save the ICA solution with a unique filename.\n",
    "\n",
    "    Parameters:\n",
    "    streams : list\n",
    "        List containing the EEG data (as dictionaries).\n",
    "    side_identifier : int\n",
    "        1 for Right (R) side, 2 for Left (L) side, used to differentiate the filenames.\n",
    "\n",
    "    Returns:\n",
    "    raw : mne.io.Raw\n",
    "        The raw EEG data after preprocessing.\n",
    "    ica : mne.preprocessing.ICA\n",
    "        The fitted ICA solution.\n",
    "    \"\"\"\n",
    "    # Check the structure of the streams\n",
    "    print(f\"Length of the streams list: {len(streams)}\")\n",
    "\n",
    "    # Initialize variables\n",
    "    data = None\n",
    "    sampling_rate = None\n",
    "    \n",
    "    # Convert the time_series to a NumPy array and check the first stream\n",
    "    first_stream_data = np.array(streams[0]['time_series'])\n",
    "    second_stream_data = np.array(streams[1]['time_series']) if len(streams) > 1 else None\n",
    "\n",
    "    # Check if the first stream has 10 channels\n",
    "    if first_stream_data.shape[0] == 10:  \n",
    "        data = first_stream_data\n",
    "        sampling_rate = streams[0]['info']['effective_srate']\n",
    "        print(\"Using first stream with shape:\", data.shape)\n",
    "    elif second_stream_data is not None:\n",
    "        # If the first stream does not have 10 channels, check the second stream\n",
    "        data = second_stream_data\n",
    "        sampling_rate = streams[1]['info']['effective_srate']\n",
    "        print(\"Using second stream with shape:\", data.shape)\n",
    "    else:\n",
    "        raise ValueError(\"No valid data found in the streams.\")\n",
    "\n",
    "    # Ensure we have valid data to work with\n",
    "    if not isinstance(data, np.ndarray) or not np.issubdtype(data.dtype, np.number):\n",
    "        raise ValueError(\"No valid numeric data found in any of the streams.\")\n",
    "\n",
    "    # Create a RawArray object for MNE\n",
    "    n_channels = data.shape[1]  # Number of channels is the number of columns (10)\n",
    "    n_samples = data.shape[0]    # Number of samples is the number of rows (e.g., 47232)\n",
    "\n",
    "    # Create the correct channel names (for example)\n",
    "    ch_names = ['F3', 'Fz', 'F4', 'C3', 'Cz', 'C4', 'P3', 'Pz', 'P4', 'GND']\n",
    "    info = mne.create_info(ch_names=ch_names, sfreq=sampling_rate, ch_types='eeg')\n",
    "\n",
    "    # Create the RawArray object with the correct shape\n",
    "    raw = mne.io.RawArray(data.T, info)  # Transpose data to fit MNE format (channels x samples)\n",
    "\n",
    "    # Set montage (if applicable)\n",
    "    montage = mne.channels.make_dig_montage(ch_pos={\n",
    "        'F3': (-39, 0.33333, 0), \n",
    "        'Fz': (0, 0.25556, 0),\n",
    "        'F4': (39, 0.33333, 0),\n",
    "        'C3': (-90, 0.25556, 0),\n",
    "        'Cz': (90, 0, 0),\n",
    "        'C4': (90, 0.25556, 0),\n",
    "        'P3': (-141, 0.33333, 0),\n",
    "        'Pz': (180, 0.25556, 0),\n",
    "        'P4': (141, 0.33333, 0),\n",
    "        'GND': (-162, 0.51111, 0)\n",
    "    })\n",
    "    \n",
    "    raw.set_montage(montage)\n",
    "\n",
    "    # High-pass filter the data for ICA performance\n",
    "    raw.filter(l_freq=1.0, h_freq=None)\n",
    "\n",
    "    # Perform ICA with the number of components equal to the number of channels\n",
    "    ica = mne.preprocessing.ICA(n_components=n_channels, random_state=97, max_iter=800)\n",
    "    ica.fit(raw)\n",
    "\n",
    "    # Save the ICA solution with a unique filename\n",
    "    ica_filename = f\"ICA_solution_side_{side_identifier}.fif\"\n",
    "    try:\n",
    "        ica.save(ica_filename)\n",
    "        print(f\"ICA solution saved to {ica_filename}\")\n",
    "    except Exception as e:\n",
    "        print(f\"Error saving ICA solution: {e}\")\n",
    "\n",
    "    return raw, ica\n"
   ]
  },
  {
   "cell_type": "code",
   "execution_count": 6,
   "id": "65f07031-b3a2-439c-b321-b0f19cbbb1c6",
   "metadata": {},
   "outputs": [],
   "source": [
    "def filtering(EEG_data):\n",
    "    # Sampling rate\n",
    "    sampling_rate = EEG_data.info['sfreq']\n",
    "\n",
    "    # Butterworth bandpass filter between 0.3 and 10 Hz (4th order)\n",
    "    b_butter, a_butter = butter(4, [0.3, 10], btype='bandpass', fs=sampling_rate)\n",
    "\n",
    "    # Mu wave frequency range\n",
    "    mu_range = [8, 12]\n",
    "    b_mu, a_mu = butter(4, mu_range, btype='bandpass', fs=sampling_rate)\n",
    "\n",
    "    # Notch filter for power line noise at 50 Hz\n",
    "    b_notch, a_notch = iirnotch(50, 50 / 35, sampling_rate)\n",
    "\n",
    "    # Initialize the filtered data\n",
    "    eeg_data_notch = np.zeros_like(EEG_data.get_data())\n",
    "    eeg_data_but = np.zeros_like(EEG_data.get_data())\n",
    "    eeg_data_mu = np.zeros_like(EEG_data.get_data())\n",
    "    eeg_data_mean = np.zeros_like(EEG_data.get_data())\n",
    "\n",
    "    # Apply filtering to each channel\n",
    "    for i in range(EEG_data.get_data().shape[0]):\n",
    "        # Apply notch filter to remove 50 Hz power line noise\n",
    "        eeg_data_notch[i, :] = filtfilt(b_notch, a_notch, EEG_data.get_data()[i, :])\n",
    "\n",
    "        # Apply Butterworth bandpass filter (0.3-10 Hz)\n",
    "        eeg_data_but[i, :] = filtfilt(b_butter, a_butter, detrend(eeg_data_notch[i, :]))\n",
    "\n",
    "        # Apply Butterworth filter for mu waves (8-12 Hz)\n",
    "        eeg_data_mu[i, :] = filtfilt(b_mu, a_mu, detrend(eeg_data_but[i, :]))\n",
    "\n",
    "        # Calculate the mean for each channel after mu wave filtering\n",
    "        eeg_data_mean[i, :] = np.mean(eeg_data_mu[i, :])\n",
    "\n",
    "    # Transpose the filtered data\n",
    "    eeg_data_but = eeg_data_but.T\n",
    "\n",
    "    # Zero-mean the data\n",
    "    channels_mean = np.mean(eeg_data_but, axis=1)\n",
    "    channels_mean_matrix = np.tile(channels_mean[:, np.newaxis], (1, eeg_data_but.shape[1]))\n",
    "    EEG_filt = eeg_data_but - channels_mean_matrix\n",
    "\n",
    "    return EEG_filt"
   ]
  },
  {
   "cell_type": "code",
   "execution_count": 7,
   "id": "4ced9642-3840-4d86-94c6-3ca12df3a83c",
   "metadata": {},
   "outputs": [],
   "source": [
    "def plot_eeg(EEG_filt, events, sampling_rate, title):\n",
    "    \"\"\" Plot EEG data with event markers. \"\"\"\n",
    "    time_vector = np.arange(len(EEG_filt)) / sampling_rate\n",
    "    plt.figure()\n",
    "    plt.plot(time_vector, EEG_filt[:, 5])  # Cz channel (index 5)\n",
    "    plt.xlabel('Time (s)')\n",
    "    plt.ylabel('EEG Data')\n",
    "    plt.title(title)\n",
    "    for event in events:\n",
    "        plt.axvline(x=event / sampling_rate, color='r', linestyle='--')\n",
    "    plt.show()"
   ]
  },
  {
   "cell_type": "code",
   "execution_count": 8,
   "id": "300accad-a852-48a4-ab08-3de0e9d902c6",
   "metadata": {},
   "outputs": [],
   "source": [
    "def plot_topoplot(mean_data, title):\n",
    "    \"\"\" Plot the topographic map (topoplot) of EEG data. \"\"\"\n",
    "    mne.viz.plot_topomap(mean_data, pos=CHAN_LOC, show=True)\n",
    "    plt.title(title)\n",
    "    plt.show()\n"
   ]
  },
  {
   "cell_type": "code",
   "execution_count": 13,
   "id": "dc71462d-7661-4c76-b5f8-9dd77f641319",
   "metadata": {},
   "outputs": [],
   "source": [
    "# Load XDF files\n",
    "xdfFilePath_Right = r\"C:\\Users\\Ferran\\Desktop\\TFM\\TFM_EEG\\DATASET\\SUB_2\\RIGHT\\sub-P001\\ses-S003\\eeg\\sub-P001_ses-S003_task-Default_run-001_eeg.xdf\"\n",
    "xdfFilePath_Left = r\"C:\\Users\\Ferran\\Desktop\\TFM\\TFM_EEG\\DATASET\\SUB_2\\LEFT\\sub-P001\\ses-S004\\eeg\\sub-P001_ses-S004_task-Default_run-001_eeg.xdf\"\n",
    "\n",
    "streams_R, header_R = load_xdf_file(xdfFilePath_Right)\n",
    "streams_L, header_L = load_xdf_file(xdfFilePath_Left)\n"
   ]
  },
  {
   "cell_type": "code",
   "execution_count": 16,
   "id": "9122850c-1835-4202-9c43-53252192cc50",
   "metadata": {},
   "outputs": [
    {
     "name": "stdout",
     "output_type": "stream",
     "text": [
      "Stream 0: Keys = dict_keys(['info', 'footer', 'time_series', 'time_stamps', 'clock_times', 'clock_values'])\n",
      "Stream 1: Keys = dict_keys(['info', 'footer', 'time_series', 'time_stamps', 'clock_times', 'clock_values'])\n"
     ]
    }
   ],
   "source": [
    "for i, stream in enumerate(streams_L):\n",
    "    print(f\"Stream {i}: Keys = {stream.keys()}\")\n"
   ]
  },
  {
   "cell_type": "code",
   "execution_count": 17,
   "id": "77401a24-65bd-4f9c-8652-bf9bc8763153",
   "metadata": {},
   "outputs": [
    {
     "name": "stdout",
     "output_type": "stream",
     "text": [
      "Length of the streams list: 2\n",
      "Using second stream with shape: (47232, 10)\n",
      "Creating RawArray with float64 data, n_channels=10, n_times=47232\n",
      "    Range : 0 ... 47231 =      0.000 ...   184.507 secs\n",
      "Ready.\n",
      "Filtering raw data in 1 contiguous segment\n",
      "Setting up high-pass filter at 1 Hz\n",
      "\n",
      "FIR filter parameters\n",
      "---------------------\n",
      "Designing a one-pass, zero-phase, non-causal highpass filter:\n",
      "- Windowed time-domain design (firwin) method\n",
      "- Hamming window with 0.0194 passband ripple and 53 dB stopband attenuation\n",
      "- Lower passband edge: 1.00\n",
      "- Lower transition bandwidth: 1.00 Hz (-6 dB cutoff frequency: 0.50 Hz)\n",
      "- Filter length: 845 samples (3.301 s)\n",
      "\n",
      "Fitting ICA to data using 10 channels (please be patient, this may take a while)\n",
      "Selecting by number: 10 components\n"
     ]
    },
    {
     "name": "stderr",
     "output_type": "stream",
     "text": [
      "C:\\Users\\Ferran\\AppData\\Local\\Temp\\ipykernel_31316\\4900453.py:73: RuntimeWarning: Fiducial point nasion not found, assuming identity unknown to head transformation\n",
      "  raw.set_montage(montage)\n"
     ]
    },
    {
     "name": "stdout",
     "output_type": "stream",
     "text": [
      "Fitting ICA took 0.2s.\n",
      "Writing ICA solution to C:\\Users\\Ferran\\Desktop\\TFM\\TFM_EEG\\TESTS\\ICA_solution_side_1.fif...\n",
      "ICA solution saved to ICA_solution_side_1.fif\n",
      "Length of the streams list: 2\n",
      "Using second stream with shape: (40, 1)\n"
     ]
    },
    {
     "name": "stderr",
     "output_type": "stream",
     "text": [
      "C:\\Users\\Ferran\\AppData\\Local\\Temp\\ipykernel_31316\\4900453.py:85: RuntimeWarning: This filename (ICA_solution_side_1.fif) does not conform to MNE naming conventions. All ICA files should end with -ica.fif, -ica.fif.gz, _ica.fif or _ica.fif.gz\n",
      "  ica.save(ica_filename)\n"
     ]
    },
    {
     "ename": "ValueError",
     "evalue": "No valid numeric data found in any of the streams.",
     "output_type": "error",
     "traceback": [
      "\u001b[1;31m---------------------------------------------------------------------------\u001b[0m",
      "\u001b[1;31mValueError\u001b[0m                                Traceback (most recent call last)",
      "Cell \u001b[1;32mIn[17], line 3\u001b[0m\n\u001b[0;32m      1\u001b[0m \u001b[38;5;66;03m# Perform ICA\u001b[39;00m\n\u001b[0;32m      2\u001b[0m EEG_DATA_R, ICA_R \u001b[38;5;241m=\u001b[39m perform_ICA(streams_R,\u001b[38;5;241m1\u001b[39m)\n\u001b[1;32m----> 3\u001b[0m EEG_DATA_L, ICA_L \u001b[38;5;241m=\u001b[39m \u001b[43mperform_ICA\u001b[49m\u001b[43m(\u001b[49m\u001b[43mstreams_L\u001b[49m\u001b[43m,\u001b[49m\u001b[38;5;241;43m2\u001b[39;49m\u001b[43m)\u001b[49m\n",
      "Cell \u001b[1;32mIn[5], line 46\u001b[0m, in \u001b[0;36mperform_ICA\u001b[1;34m(streams, side_identifier)\u001b[0m\n\u001b[0;32m     44\u001b[0m \u001b[38;5;66;03m# Ensure we have valid data to work with\u001b[39;00m\n\u001b[0;32m     45\u001b[0m \u001b[38;5;28;01mif\u001b[39;00m \u001b[38;5;129;01mnot\u001b[39;00m \u001b[38;5;28misinstance\u001b[39m(data, np\u001b[38;5;241m.\u001b[39mndarray) \u001b[38;5;129;01mor\u001b[39;00m \u001b[38;5;129;01mnot\u001b[39;00m np\u001b[38;5;241m.\u001b[39missubdtype(data\u001b[38;5;241m.\u001b[39mdtype, np\u001b[38;5;241m.\u001b[39mnumber):\n\u001b[1;32m---> 46\u001b[0m     \u001b[38;5;28;01mraise\u001b[39;00m \u001b[38;5;167;01mValueError\u001b[39;00m(\u001b[38;5;124m\"\u001b[39m\u001b[38;5;124mNo valid numeric data found in any of the streams.\u001b[39m\u001b[38;5;124m\"\u001b[39m)\n\u001b[0;32m     48\u001b[0m \u001b[38;5;66;03m# Create a RawArray object for MNE\u001b[39;00m\n\u001b[0;32m     49\u001b[0m n_channels \u001b[38;5;241m=\u001b[39m data\u001b[38;5;241m.\u001b[39mshape[\u001b[38;5;241m1\u001b[39m]  \u001b[38;5;66;03m# Number of channels is the number of columns (10)\u001b[39;00m\n",
      "\u001b[1;31mValueError\u001b[0m: No valid numeric data found in any of the streams."
     ]
    }
   ],
   "source": [
    "# Perform ICA\n",
    "EEG_DATA_R, ICA_R = perform_ICA(streams_R,1)\n",
    "EEG_DATA_L, ICA_L = perform_ICA(streams_L,2)"
   ]
  },
  {
   "cell_type": "code",
   "execution_count": 18,
   "id": "dab8a1fb-003d-412b-9098-e4eb73a05573",
   "metadata": {},
   "outputs": [
    {
     "name": "stdout",
     "output_type": "stream",
     "text": [
      "Opening raw data file C:\\Users\\Ferran\\Desktop\\TFM\\TFM_EEG\\TESTS\\ICA_solution_side_1.fif...\n"
     ]
    },
    {
     "name": "stderr",
     "output_type": "stream",
     "text": [
      "C:\\Users\\Ferran\\AppData\\Local\\Temp\\ipykernel_31316\\4190640621.py:7: RuntimeWarning: This filename (C:\\Users\\Ferran\\Desktop\\TFM\\TFM_EEG\\TESTS\\ICA_solution_side_1.fif) does not conform to MNE naming conventions. All raw files should end with raw.fif, raw_sss.fif, raw_tsss.fif, _meg.fif, _eeg.fif, _ieeg.fif, raw.fif.gz, raw_sss.fif.gz, raw_tsss.fif.gz, _meg.fif.gz, _eeg.fif.gz or _ieeg.fif.gz\n",
      "  raw = mne.io.read_raw_fif(fif_file_path, preload=True)\n"
     ]
    },
    {
     "ename": "ValueError",
     "evalue": "No raw data in C:\\Users\\Ferran\\Desktop\\TFM\\TFM_EEG\\TESTS\\ICA_solution_side_1.fif",
     "output_type": "error",
     "traceback": [
      "\u001b[1;31m---------------------------------------------------------------------------\u001b[0m",
      "\u001b[1;31mValueError\u001b[0m                                Traceback (most recent call last)",
      "Cell \u001b[1;32mIn[18], line 7\u001b[0m\n\u001b[0;32m      4\u001b[0m fif_file_path \u001b[38;5;241m=\u001b[39m \u001b[38;5;124mr\u001b[39m\u001b[38;5;124m\"\u001b[39m\u001b[38;5;124mC:\u001b[39m\u001b[38;5;124m\\\u001b[39m\u001b[38;5;124mUsers\u001b[39m\u001b[38;5;124m\\\u001b[39m\u001b[38;5;124mFerran\u001b[39m\u001b[38;5;124m\\\u001b[39m\u001b[38;5;124mDesktop\u001b[39m\u001b[38;5;124m\\\u001b[39m\u001b[38;5;124mTFM\u001b[39m\u001b[38;5;124m\\\u001b[39m\u001b[38;5;124mTFM_EEG\u001b[39m\u001b[38;5;124m\\\u001b[39m\u001b[38;5;124mTESTS\u001b[39m\u001b[38;5;124m\\\u001b[39m\u001b[38;5;124mICA_solution_side_1.fif\u001b[39m\u001b[38;5;124m\"\u001b[39m  \u001b[38;5;66;03m# Replace with your actual file path\u001b[39;00m\n\u001b[0;32m      6\u001b[0m \u001b[38;5;66;03m# Load the FIF file\u001b[39;00m\n\u001b[1;32m----> 7\u001b[0m raw \u001b[38;5;241m=\u001b[39m \u001b[43mmne\u001b[49m\u001b[38;5;241;43m.\u001b[39;49m\u001b[43mio\u001b[49m\u001b[38;5;241;43m.\u001b[39;49m\u001b[43mread_raw_fif\u001b[49m\u001b[43m(\u001b[49m\u001b[43mfif_file_path\u001b[49m\u001b[43m,\u001b[49m\u001b[43m \u001b[49m\u001b[43mpreload\u001b[49m\u001b[38;5;241;43m=\u001b[39;49m\u001b[38;5;28;43;01mTrue\u001b[39;49;00m\u001b[43m)\u001b[49m\n\u001b[0;32m      9\u001b[0m \u001b[38;5;66;03m# Print information about the raw data\u001b[39;00m\n\u001b[0;32m     10\u001b[0m \u001b[38;5;28mprint\u001b[39m(raw\u001b[38;5;241m.\u001b[39minfo)\n",
      "File \u001b[1;32m~\\anaconda3\\envs\\TFM\\Lib\\site-packages\\mne\\io\\fiff\\raw.py:543\u001b[0m, in \u001b[0;36mread_raw_fif\u001b[1;34m(fname, allow_maxshield, preload, on_split_missing, verbose)\u001b[0m\n\u001b[0;32m    502\u001b[0m \u001b[38;5;129m@fill_doc\u001b[39m\n\u001b[0;32m    503\u001b[0m \u001b[38;5;28;01mdef\u001b[39;00m \u001b[38;5;21mread_raw_fif\u001b[39m(\n\u001b[0;32m    504\u001b[0m     fname, allow_maxshield\u001b[38;5;241m=\u001b[39m\u001b[38;5;28;01mFalse\u001b[39;00m, preload\u001b[38;5;241m=\u001b[39m\u001b[38;5;28;01mFalse\u001b[39;00m, on_split_missing\u001b[38;5;241m=\u001b[39m\u001b[38;5;124m\"\u001b[39m\u001b[38;5;124mraise\u001b[39m\u001b[38;5;124m\"\u001b[39m, verbose\u001b[38;5;241m=\u001b[39m\u001b[38;5;28;01mNone\u001b[39;00m\n\u001b[0;32m    505\u001b[0m ):\n\u001b[0;32m    506\u001b[0m \u001b[38;5;250m    \u001b[39m\u001b[38;5;124;03m\"\"\"Reader function for Raw FIF data.\u001b[39;00m\n\u001b[0;32m    507\u001b[0m \n\u001b[0;32m    508\u001b[0m \u001b[38;5;124;03m    Parameters\u001b[39;00m\n\u001b[1;32m   (...)\u001b[0m\n\u001b[0;32m    541\u001b[0m \u001b[38;5;124;03m    are updated accordingly.\u001b[39;00m\n\u001b[0;32m    542\u001b[0m \u001b[38;5;124;03m    \"\"\"\u001b[39;00m\n\u001b[1;32m--> 543\u001b[0m     \u001b[38;5;28;01mreturn\u001b[39;00m \u001b[43mRaw\u001b[49m\u001b[43m(\u001b[49m\n\u001b[0;32m    544\u001b[0m \u001b[43m        \u001b[49m\u001b[43mfname\u001b[49m\u001b[38;5;241;43m=\u001b[39;49m\u001b[43mfname\u001b[49m\u001b[43m,\u001b[49m\n\u001b[0;32m    545\u001b[0m \u001b[43m        \u001b[49m\u001b[43mallow_maxshield\u001b[49m\u001b[38;5;241;43m=\u001b[39;49m\u001b[43mallow_maxshield\u001b[49m\u001b[43m,\u001b[49m\n\u001b[0;32m    546\u001b[0m \u001b[43m        \u001b[49m\u001b[43mpreload\u001b[49m\u001b[38;5;241;43m=\u001b[39;49m\u001b[43mpreload\u001b[49m\u001b[43m,\u001b[49m\n\u001b[0;32m    547\u001b[0m \u001b[43m        \u001b[49m\u001b[43mverbose\u001b[49m\u001b[38;5;241;43m=\u001b[39;49m\u001b[43mverbose\u001b[49m\u001b[43m,\u001b[49m\n\u001b[0;32m    548\u001b[0m \u001b[43m        \u001b[49m\u001b[43mon_split_missing\u001b[49m\u001b[38;5;241;43m=\u001b[39;49m\u001b[43mon_split_missing\u001b[49m\u001b[43m,\u001b[49m\n\u001b[0;32m    549\u001b[0m \u001b[43m    \u001b[49m\u001b[43m)\u001b[49m\n",
      "File \u001b[1;32m<decorator-gen-299>:12\u001b[0m, in \u001b[0;36m__init__\u001b[1;34m(self, fname, allow_maxshield, preload, on_split_missing, verbose)\u001b[0m\n",
      "File \u001b[1;32m~\\anaconda3\\envs\\TFM\\Lib\\site-packages\\mne\\io\\fiff\\raw.py:105\u001b[0m, in \u001b[0;36mRaw.__init__\u001b[1;34m(self, fname, allow_maxshield, preload, on_split_missing, verbose)\u001b[0m\n\u001b[0;32m    103\u001b[0m next_fname \u001b[38;5;241m=\u001b[39m fname\n\u001b[0;32m    104\u001b[0m \u001b[38;5;28;01mwhile\u001b[39;00m next_fname \u001b[38;5;129;01mis\u001b[39;00m \u001b[38;5;129;01mnot\u001b[39;00m \u001b[38;5;28;01mNone\u001b[39;00m:\n\u001b[1;32m--> 105\u001b[0m     raw, next_fname, buffer_size_sec \u001b[38;5;241m=\u001b[39m \u001b[38;5;28;43mself\u001b[39;49m\u001b[38;5;241;43m.\u001b[39;49m\u001b[43m_read_raw_file\u001b[49m\u001b[43m(\u001b[49m\n\u001b[0;32m    106\u001b[0m \u001b[43m        \u001b[49m\u001b[43mnext_fname\u001b[49m\u001b[43m,\u001b[49m\u001b[43m \u001b[49m\u001b[43mallow_maxshield\u001b[49m\u001b[43m,\u001b[49m\u001b[43m \u001b[49m\u001b[43mpreload\u001b[49m\u001b[43m,\u001b[49m\u001b[43m \u001b[49m\u001b[43mdo_check_ext\u001b[49m\n\u001b[0;32m    107\u001b[0m \u001b[43m    \u001b[49m\u001b[43m)\u001b[49m\n\u001b[0;32m    108\u001b[0m     do_check_ext \u001b[38;5;241m=\u001b[39m \u001b[38;5;28;01mFalse\u001b[39;00m\n\u001b[0;32m    109\u001b[0m     raws\u001b[38;5;241m.\u001b[39mappend(raw)\n",
      "File \u001b[1;32m<decorator-gen-300>:12\u001b[0m, in \u001b[0;36m_read_raw_file\u001b[1;34m(self, fname, allow_maxshield, preload, do_check_ext, verbose)\u001b[0m\n",
      "File \u001b[1;32m~\\anaconda3\\envs\\TFM\\Lib\\site-packages\\mne\\io\\fiff\\raw.py:211\u001b[0m, in \u001b[0;36mRaw._read_raw_file\u001b[1;34m(self, fname, allow_maxshield, preload, do_check_ext, verbose)\u001b[0m\n\u001b[0;32m    209\u001b[0m raw_node \u001b[38;5;241m=\u001b[39m dir_tree_find(meas, FIFF\u001b[38;5;241m.\u001b[39mFIFFB_IAS_RAW_DATA)\n\u001b[0;32m    210\u001b[0m \u001b[38;5;28;01mif\u001b[39;00m \u001b[38;5;28mlen\u001b[39m(raw_node) \u001b[38;5;241m==\u001b[39m \u001b[38;5;241m0\u001b[39m:\n\u001b[1;32m--> 211\u001b[0m     \u001b[38;5;28;01mraise\u001b[39;00m \u001b[38;5;167;01mValueError\u001b[39;00m(\u001b[38;5;124m\"\u001b[39m\u001b[38;5;124mNo raw data in \u001b[39m\u001b[38;5;132;01m%s\u001b[39;00m\u001b[38;5;124m\"\u001b[39m \u001b[38;5;241m%\u001b[39m fname_rep)\n\u001b[0;32m    212\u001b[0m _check_maxshield(allow_maxshield)\n\u001b[0;32m    213\u001b[0m \u001b[38;5;28;01mwith\u001b[39;00m info\u001b[38;5;241m.\u001b[39m_unlock():\n",
      "\u001b[1;31mValueError\u001b[0m: No raw data in C:\\Users\\Ferran\\Desktop\\TFM\\TFM_EEG\\TESTS\\ICA_solution_side_1.fif"
     ]
    }
   ],
   "source": [
    "import mne\n",
    "\n",
    "# Specify the path to your .fif file\n",
    "fif_file_path = r\"C:\\Users\\Ferran\\Desktop\\TFM\\TFM_EEG\\TESTS\\ICA_solution_side_1.fif\"  # Replace with your actual file path\n",
    "\n",
    "# Load the FIF file\n",
    "raw = mne.io.read_raw_fif(fif_file_path, preload=True)\n",
    "\n",
    "# Print information about the raw data\n",
    "print(raw.info)\n",
    "\n",
    "# Optionally, plot the data\n",
    "raw.plot()\n"
   ]
  },
  {
   "cell_type": "code",
   "execution_count": null,
   "id": "c6947215-ffe4-4665-92c4-40b1cfa7735d",
   "metadata": {},
   "outputs": [],
   "source": [
    "# Filter EEG data\n",
    "EEG_filt_R = filtering(EEG_DATA_R)\n",
    "EEG_filt_L = filtering(EEG_DATA_L)\n",
    "\n",
    "# Plot EEG Data with Event Markers\n",
    "sampling_rate = EEG_DATA_R.info['sfreq']\n",
    "events_right = streams_R[0]['time_stamps'] * sampling_rate\n",
    "events_left = streams_L[0]['time_stamps'] * sampling_rate\n",
    "\n",
    "plot_eeg(EEG_filt_R, events_right, sampling_rate, 'EEG Data with Event Markers (Right)')\n",
    "plot_eeg(EEG_filt_L, events_left, sampling_rate, 'EEG Data with Event Markers (Left)')\n",
    "\n",
    "# Create and plot Topoplots\n",
    "mean_R_data = np.mean(EEG_filt_R, axis=0)\n",
    "mean_L_data = np.mean(EEG_filt_L, axis=0)\n",
    "\n",
    "plot_topoplot(mean_R_data, 'EEG TOPOPLOT for Right Events')\n",
    "plot_topoplot(mean_L_data, 'EEG TOPOPLOT for Left Events')"
   ]
  }
 ],
 "metadata": {
  "kernelspec": {
   "display_name": "Python 3 (ipykernel)",
   "language": "python",
   "name": "python3"
  },
  "language_info": {
   "codemirror_mode": {
    "name": "ipython",
    "version": 3
   },
   "file_extension": ".py",
   "mimetype": "text/x-python",
   "name": "python",
   "nbconvert_exporter": "python",
   "pygments_lexer": "ipython3",
   "version": "3.11.6"
  }
 },
 "nbformat": 4,
 "nbformat_minor": 5
}
